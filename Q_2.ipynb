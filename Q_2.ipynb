{
 "cells": [
  {
   "cell_type": "code",
   "execution_count": null,
   "id": "eb9c688a",
   "metadata": {},
   "outputs": [],
   "source": [
    "# Q2\n",
    "# with training output 1 or 0 for si#lver particles without coalescence or with coalescence"
   ]
  },
  {
   "cell_type": "code",
   "execution_count": null,
   "id": "a7f89f0b",
   "metadata": {},
   "outputs": [],
   "source": [
    "import os\n",
    "import numpy as np\n",
    "import torch\n",
    "from torch.utils.data import Dataset\n",
    "from torchvision import datasets\n",
    "from torchvision.transforms import ToTensor\n",
    "import matplotlib.pyplot as plt\n",
    "from torch import nn, optim\n",
    "import torch.nn.functional as F"
   ]
  },
  {
   "cell_type": "code",
   "execution_count": null,
   "id": "f12ef3b9",
   "metadata": {},
   "outputs": [],
   "source": [
    "class Dataset(Dataset):\n",
    "    def __init__(self, root_dir, traj_dir):\n",
    "        self.root_dir = root_dir\n",
    "        self.traj_dir = traj_dir\n",
    "   \n",
    "        \n",
    "    def __getitem__(self, idx):\n",
    "        path = os.path.join(self.root_dir, self.traj_dir[idx])\n",
    "        traj_path = os.listdir(path)\n",
    "        \n",
    "        traj_data = []\n",
    "        for i in range(100):\n",
    "            absolute_path = os.path.join(path, traj_path[i])\n",
    "            data_i = np.load(absolute_path)\n",
    "            traj_data.append(data_i)\n",
    "        traj_data = torch.from_numpy(np.array(traj_data)).float()\n",
    "        \n",
    "        traj_label = []\n",
    "        \n",
    "            \n",
    "        if 1 <= int(self.traj_dir[idx][1]) <= 23:\n",
    "            traj_label.append(0)\n",
    "        elif 24 <= int(self.traj_dir[idx][1]) <= 48:\n",
    "            traj_label.append(1)\n",
    "    \n",
    "        traj_label = torch.from_numpy(np.array(traj_label)).float()\n",
    "        \n",
    "        return traj_data, traj_label\n",
    "     \n",
    "    def __len__(self):\n",
    "        return len(self.traj_dir)\n",
    "        \n",
    "                                                                                                                                                                           "
   ]
  },
  {
   "cell_type": "code",
   "execution_count": null,
   "id": "03e16243",
   "metadata": {},
   "outputs": [],
   "source": [
    "root_dir = '/home/xh721/Documents/AIhackathon'\n",
    "data1_16 = ['t'+str(x) for x in range(1, 16)]\n",
    "data24_39 = ['t'+str(x) for x in range(24, 40)]\n",
    "\n",
    "data16_23 = ['t'+str(x) for x in range(16, 24)]\n",
    "data40_48 = ['t'+str(x) for x in range(40, 49)]\n",
    "\n",
    "train_set =data1_16+data24_39\n",
    "test_set = data16_23+data40_48\n",
    "# print(train.shape)\n",
    "# train=train.reshape(-1,1,31)\n",
    "# test=test.reshape(-1,1,31)\n"
   ]
  },
  {
   "cell_type": "code",
   "execution_count": null,
   "id": "77e22629",
   "metadata": {},
   "outputs": [],
   "source": [
    "from torchvision.datasets import MNIST\n",
    "import torchvision.transforms as transforms\n",
    "from torch.utils.data import DataLoader\n",
    "\n",
    "train = Dataset(root_dir, train_set)\n",
    "test = Dataset(root_dir, test_set)\n"
   ]
  },
  {
   "cell_type": "code",
   "execution_count": null,
   "id": "0b5e6244",
   "metadata": {},
   "outputs": [],
   "source": [
    "# for data, label in train:\n",
    "#     train_x =data\n",
    "#     train_y = label\n",
    "    \n",
    "# for data, label in test:\n",
    "#     test_x =data\n",
    "#     test_y = label"
   ]
  },
  {
   "cell_type": "code",
   "execution_count": 7,
   "id": "ecbd7151",
   "metadata": {},
   "outputs": [],
   "source": [
    "# print(train_x.shape)\n",
    "\n",
    "# print(train_y.shape)\n"
   ]
  },
  {
   "cell_type": "code",
   "execution_count": 8,
   "id": "6284ed04",
   "metadata": {},
   "outputs": [],
   "source": [
    "batch_size = 5\n",
    "train_loader = DataLoader(dataset=train, batch_size=batch_size, shuffle=True)\n",
    "test_loader  = DataLoader(dataset=test,  batch_size=batch_size, shuffle=False)"
   ]
  },
  {
   "cell_type": "code",
   "execution_count": 9,
   "id": "febe2403",
   "metadata": {},
   "outputs": [],
   "source": [
    "\n",
    "class VAE(nn.Module):\n",
    "    \n",
    "    def __init__(self, inChannels=100, featureDim=1*10*10, zDim=1):\n",
    "        super(VAE, self).__init__() # Initializing the 2 convolutional layers and 2 full-connected layers for the encoder\n",
    "        self.encConv1 = nn.Conv2d(inChannels, 50, 24, stride= 20)\n",
    "        self.encConv2 = nn.Conv2d(50, 1, 24, stride=3)\n",
    "        self.encFC1 = nn.Linear(featureDim, zDim)\n",
    "        self.encFC2 = nn.Linear(featureDim, zDim) # Initializing the fully-connected layer and 2 convolutional layers for decoder\n",
    "        self.decFC1 = nn.Linear(zDim, featureDim)\n",
    "        self.decConv1 = nn.ConvTranspose2d(1, 50, 24, stride=3)\n",
    "        self.decConv2 = nn.ConvTranspose2d(50, 15, 24, stride= 20) \n",
    "    \n",
    "    def encoder(self, x): # Input is fed into 2 convolutional layers sequentially\n",
    "        # The output feature map are fed into 2 fully-connected layers to predict mean (mu) and variance (logVar)\n",
    "        # Mu and logVar are used for generating middle representation z and KL divergence loss\n",
    "        x = F.relu(self.encConv1(x))\n",
    "        x = F.relu(self.encConv2(x))\n",
    "        x = x.view(-1, 1*10*10)\n",
    "        mu = self.encFC1(x)\n",
    "        logVar = self.encFC2(x)\n",
    "        return mu, logVar \n",
    "    \n",
    "    def reparameterize(self, mu, logVar): \n",
    "        #Reparameterization takes in the input mu and logVar and sample the mu + std * eps\n",
    "    \n",
    "        std = torch.exp(logVar/2)\n",
    "        eps = torch.randn_like(std)\n",
    "        return mu + std * eps \n",
    "    \n",
    "    def decoder(self, z): # z is fed back into a fully-connected layers and then into two transpose convolutional layers\n",
    "        # The generated output is the same size of the original input\n",
    "        x = F.relu(self.decFC1(z))\n",
    "        x = x.view(-1, 1, 10, 10)\n",
    "        x = F.relu(self.decConv1(x))\n",
    "        x = torch.sigmoid(self.decConv2(x))\n",
    "        return x \n",
    "    \n",
    "    def forward(self, x): # The entire pipeline of the VAE: encoder -> reparameterization -> decoder\n",
    "        # output, mu, and logVar are returned for loss computation\n",
    "        mu, logVar = self.encoder(x)\n",
    "        z = self.reparameterize(mu, logVar)\n",
    "        out = self.decoder(z)\n",
    "        return out, mu, logVar\n",
    "\n"
   ]
  },
  {
   "cell_type": "code",
   "execution_count": 10,
   "id": "59c3e950",
   "metadata": {},
   "outputs": [],
   "source": [
    "lr = 0.001\n",
    "\n",
    "\n",
    "x_dim  = 100\n",
    "hidden_dim = 400\n",
    "latent_dim = 200\n",
    "\n",
    "num_epochs = 5\n"
   ]
  },
  {
   "cell_type": "code",
   "execution_count": 11,
   "id": "76702815",
   "metadata": {},
   "outputs": [
    {
     "name": "stdout",
     "output_type": "stream",
     "text": [
      "Start training VAE...\n",
      "Epoch 0: Loss 0.059687296161428094\n",
      "Epoch 0: Loss 0.015402257209643722\n",
      "Epoch 1: Loss 0.025418078992515802\n",
      "Epoch 1: Loss 0.011574822361581028\n",
      "Epoch 2: Loss 0.018489719019271433\n",
      "Epoch 2: Loss 0.008012043312191963\n",
      "Epoch 3: Loss 0.01256102355546318\n",
      "Epoch 3: Loss 0.0052719078958034515\n",
      "Epoch 4: Loss 0.008190517823095433\n",
      "Epoch 4: Loss 0.0033818134397733957\n"
     ]
    }
   ],
   "source": [
    "print(\"Start training VAE...\")\n",
    "from torch.optim import Adam\n",
    "\n",
    "net=VAE()\n",
    "all_loss = []\n",
    "all_loss_list = []\n",
    "\n",
    "optimizer = Adam(net.parameters(), lr=lr)\n",
    "for epoch in range(num_epochs):\n",
    "    net.train()\n",
    "    loss1_all = 0\n",
    "    for batch_idx, (x, y) in enumerate(train_loader):\n",
    "        out, mu, logVar = net(x)\n",
    "        KL_divergence = - 0.5 * torch.sum(1+ logVar - mu.pow(2) - logVar.exp())\n",
    "        loss1 = F.mse_loss(mu, y) + KL_divergence\n",
    "        loss1_all += loss1.item()\n",
    "\n",
    "        optimizer.zero_grad()\n",
    "        loss1.backward()\n",
    "        optimizer.step()\n",
    "\n",
    "    all_loss.append(loss1_all)\n",
    "\n",
    "\n",
    "    loss2_all = 0\n",
    "\n",
    "\n",
    "    with torch.no_grad():\n",
    "        net.eval()\n",
    "    for batch_idx, (x, y) in enumerate(test_loader):\n",
    "        pred, mu, logVar = net(x)\n",
    "        KL_divergence = - 0.5 * torch.sum(1+ logVar - mu.pow(2) - logVar.exp())\n",
    "        loss2 = F.mse_loss(mu, y) + KL_divergence\n",
    "        loss2_all += loss2.item()\n",
    "\n",
    "    all_loss_list.append(loss2_all)\n",
    "\n",
    "\n",
    "    print('Epoch {}: Loss {}'.format(epoch, loss1_all))\n",
    "    print('Epoch {}: Loss {}'.format(epoch, loss2_all))"
   ]
  },
  {
   "cell_type": "code",
   "execution_count": 17,
   "id": "fc86ed08",
   "metadata": {},
   "outputs": [
    {
     "data": {
      "image/png": "[encoded data removed]",
      "text/plain": [
       "<Figure size 432x288 with 1 Axes>"
      ]
     },
     "metadata": {
      "needs_background": "light"
     },
     "output_type": "display_data"
    }
   ],
   "source": [
    "\n",
    "a=plt.figure()\n",
    "plt.plot(all_loss, label='train')\n",
    "plt.plot(all_loss_list, label = 'test')\n",
    "\n",
    "plt.xlabel('epoch')\n",
    "plt.ylabel('Loss')\n",
    "plt.title('Loss Function for VAE')\n",
    "plt.legend()\n",
    "plt.savefig('figure.png')"
   ]
  },
  {
   "cell_type": "code",
   "execution_count": null,
   "id": "8d63a07e",
   "metadata": {},
   "outputs": [],
   "source": []
  },
  {
   "cell_type": "code",
   "execution_count": null,
   "id": "529c69fc",
   "metadata": {},
   "outputs": [],
   "source": []
  },
  {
   "cell_type": "code",
   "execution_count": null,
   "id": "dc9b775b",
   "metadata": {},
   "outputs": [],
   "source": []
  },
  {
   "cell_type": "code",
   "execution_count": null,
   "id": "94d84137",
   "metadata": {},
   "outputs": [],
   "source": []
  },
  {
   "cell_type": "code",
   "execution_count": null,
   "id": "dc6af8ac",
   "metadata": {},
   "outputs": [],
   "source": []
  }
 ],
 "metadata": {
  "kernelspec": {
   "display_name": "MLBD-MRes",
   "language": "python",
   "name": "mlbd-mres"
  },
  "language_info": {
   "codemirror_mode": {
    "name": "ipython",
    "version": 3
   },
   "file_extension": ".py",
   "mimetype": "text/x-python",
   "name": "python",
   "nbconvert_exporter": "python",
   "pygments_lexer": "ipython3",
   "version": "3.9.7"
  }
 },
 "nbformat": 4,
 "nbformat_minor": 5
}
