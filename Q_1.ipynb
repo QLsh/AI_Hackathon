{
 "cells": [
  {
   "cell_type": "markdown",
   "id": "81735026-8557-453a-b243-13773a684170",
   "metadata": {},
   "source": [
    "# Import Library"
   ]
  },
  {
   "cell_type": "code",
   "execution_count": null,
   "id": "64f496cf-b652-4160-9d3f-99e952283a77",
   "metadata": {},
   "outputs": [],
   "source": [
    "import os\n",
    "import numpy as np\n",
    "import torch\n",
    "from torch.utils.data import Dataset\n",
    "from torchvision import datasets\n",
    "from torchvision.transforms import ToTensor\n",
    "import matplotlib.pyplot as plt\n",
    "from torch.utils.data import DataLoader\n",
    "import torchvision.transforms as transforms#\n",
    "import torch.nn as nn\n",
    "import torch.nn.functional as F\n",
    "from torch.optim import Adam\n",
    "import matplotlib as mpl"
   ]
  },
  {
   "cell_type": "markdown",
   "id": "2bd8373c-f9e4-435d-b598-a00a477535a2",
   "metadata": {},
   "source": [
    "# Hyperparameters"
   ]
  },
  {
   "cell_type": "code",
   "execution_count": 2,
   "id": "5e897e96",
   "metadata": {},
   "outputs": [],
   "source": [
    "batch_size = 5\n",
    "learning_rate = 0.05\n",
    "num_epochs = 5"
   ]
  },
  {
   "cell_type": "markdown",
   "id": "66182638-1e50-46fc-9cbd-6b7d6ae4d40d",
   "metadata": {},
   "source": [
    "# Class Dataset and Dataloader"
   ]
  },
  {
   "cell_type": "code",
   "execution_count": 3,
   "id": "43627ae4",
   "metadata": {},
   "outputs": [],
   "source": [
    "class Dataset(Dataset):\n",
    "    def __init__(self, root_dir, traj_dir):\n",
    "        self.root_dir = root_dir\n",
    "        self.traj_dir = traj_dir\n",
    "        \n",
    "        \n",
    "      \n",
    "    def __getitem__(self, idx):\n",
    "        path = os.path.join(self.root_dir, self.traj_dir[idx])\n",
    "        traj_path = os.listdir(path)\n",
    "        num = len(traj_path)\n",
    "        \n",
    "        \n",
    "        traj_data = []\n",
    "        for i in range(100):\n",
    "            absolute_path = os.path.join(path, traj_path[i])\n",
    "            data_i = np.load(absolute_path)\n",
    "            traj_data.append(data_i)\n",
    "        #traj_data = np.array(traj_data)\n",
    "        traj_data = torch.from_numpy(np.array(traj_data)).float()\n",
    "    \n",
    "            \n",
    "        tarj_label = []\n",
    "        for i in range(num-15, num):\n",
    "            absolute_path = os.path.join(path, traj_path[i])\n",
    "            data_i = np.load(absolute_path)\n",
    "            tarj_label.append(data_i)\n",
    "        tarj_label = np.array(tarj_label)\n",
    "        tarj_label = torch.from_numpy(np.array(tarj_label)).float()\n",
    "       \n",
    "        \n",
    "       \n",
    "            \n",
    "        return traj_data, tarj_label\n",
    "            \n",
    "                    \n",
    "    def __len__(self):\n",
    "        return len(self.traj_dir)\n",
    "                                         "
   ]
  },
  {
   "cell_type": "code",
   "execution_count": 4,
   "id": "5fd14f31",
   "metadata": {},
   "outputs": [
    {
     "name": "stdout",
     "output_type": "stream",
     "text": [
      "['t16', 't17', 't18', 't19', 't20', 't21', 't22', 't23', 't40', 't41', 't42', 't43', 't44', 't45', 't46', 't47', 't48']\n",
      "['t1', 't2', 't3', 't4', 't5', 't6', 't7', 't8', 't9', 't10', 't11', 't12', 't13', 't14', 't15', 't24', 't25', 't26', 't27', 't28', 't29', 't30', 't31', 't32', 't33', 't34', 't35', 't36', 't37', 't38', 't39']\n"
     ]
    }
   ],
   "source": [
    "root_dir = '/trajectories'\n",
    "training_dir = ['t' + str(x)  for x in range (1, 16)] + ['t' + str(x)  for x in range (24, 40)]\n",
    "testing_dir = ['t' + str(x)  for x in range (16, 24)] + ['t' + str(x)  for x in range (40, 49)]"
   ]
  },
  {
   "cell_type": "code",
   "execution_count": 5,
   "id": "0dd22491",
   "metadata": {},
   "outputs": [],
   "source": [
    "transform = transforms.Compose([\n",
    "        transforms.ToTensor(),\n",
    "])\n",
    "\n",
    "train_dataset = Dataset(root_dir, training_dir)\n",
    "test_dataset = Dataset(root_dir, testing_dir)"
   ]
  },
  {
   "cell_type": "code",
   "execution_count": 7,
   "id": "86fb9817",
   "metadata": {},
   "outputs": [],
   "source": [
    "train_loader = DataLoader(dataset = train_dataset, batch_size=batch_size, shuffle=True)\n",
    "test_loader = DataLoader(dataset = test_dataset, batch_size=batch_size, shuffle=True)"
   ]
  },
  {
   "cell_type": "markdown",
   "id": "a490689a-b71f-4260-bbd3-1eaf9a1a5774",
   "metadata": {},
   "source": [
    "# Class Model"
   ]
  },
  {
   "cell_type": "code",
   "execution_count": 9,
   "id": "a951d36b",
   "metadata": {},
   "outputs": [],
   "source": [
    "class VAE(nn.Module):\n",
    "    def __init__(self, inChannels=100, featureDim=1*10*10, zDim=50):\n",
    "        super(VAE, self).__init__()\n",
    "\n",
    "        # Initializing the 2 convolutional layers and 2 full-connected layers for the encoder\n",
    "        self.encConv1 = nn.Conv2d(inChannels, 50, 24, stride= 20)\n",
    "        self.encConv2 = nn.Conv2d(50, 1, 24, stride=3)\n",
    "        self.encFC1 = nn.Linear(featureDim, zDim)\n",
    "        self.encFC2 = nn.Linear(featureDim, zDim)\n",
    "\n",
    "        # Initializing the fully-connected layer and 2 convolutional layers for decoder\n",
    "        self.decFC1 = nn.Linear(zDim, featureDim)\n",
    "        self.decConv1 = nn.ConvTranspose2d(1, 50, 24, stride=3)\n",
    "        self.decConv2 = nn.ConvTranspose2d(50, 15, 24, stride= 20)\n",
    "\n",
    "    def encoder(self, x):\n",
    "\n",
    "        # Input is fed into 2 convolutional layers sequentially\n",
    "        # The output feature map are fed into 2 fully-connected layers to predict mean (mu) and variance (logVar)\n",
    "        # Mu and logVar are used for generating middle representation z and KL divergence loss\n",
    "        x = F.relu(self.encConv1(x))\n",
    "        x = F.relu(self.encConv2(x))\n",
    "        x = x.view(-1, 1*10*10)\n",
    "        mu = self.encFC1(x)\n",
    "        logVar = self.encFC2(x)\n",
    "        return mu, logVar\n",
    "\n",
    "    def reparameterize(self, mu, logVar):\n",
    "\n",
    "        #Reparameterization takes in the input mu and logVar and sample the mu + std * eps\n",
    "        std = torch.exp(logVar/2)\n",
    "        eps = torch.randn_like(std)\n",
    "        return mu + std * eps\n",
    "\n",
    "    def decoder(self, z):\n",
    "\n",
    "        # z is fed back into a fully-connected layers and then into two transpose convolutional layers\n",
    "        # The generated output is the same size of the original input\n",
    "        x = F.relu(self.decFC1(z))\n",
    "        x = x.view(-1, 1, 10, 10)\n",
    "        x = F.relu(self.decConv1(x))\n",
    "        x = torch.sigmoid(self.decConv2(x))\n",
    "        return x\n",
    "\n",
    "    def forward(self, x):\n",
    "\n",
    "        # The entire pipeline of the VAE: encoder -> reparameterization -> decoder\n",
    "        # output, mu, and logVar are returned for loss computation\n",
    "        mu, logVar = self.encoder(x)\n",
    "        z = self.reparameterize(mu, logVar)\n",
    "        out = self.decoder(z)\n",
    "        return out, mu, logVar"
   ]
  },
  {
   "cell_type": "code",
   "execution_count": 10,
   "id": "e557828a",
   "metadata": {},
   "outputs": [
    {
     "name": "stdout",
     "output_type": "stream",
     "text": [
      "VAE(\n",
      "  (encConv1): Conv2d(100, 50, kernel_size=(24, 24), stride=(20, 20))\n",
      "  (encConv2): Conv2d(50, 1, kernel_size=(24, 24), stride=(3, 3))\n",
      "  (encFC1): Linear(in_features=100, out_features=50, bias=True)\n",
      "  (encFC2): Linear(in_features=100, out_features=50, bias=True)\n",
      "  (decFC1): Linear(in_features=50, out_features=100, bias=True)\n",
      "  (decConv1): ConvTranspose2d(1, 50, kernel_size=(24, 24), stride=(3, 3))\n",
      "  (decConv2): ConvTranspose2d(50, 15, kernel_size=(24, 24), stride=(20, 20))\n",
      ")\n"
     ]
    }
   ],
   "source": [
    "net = VAE()\n",
    "print(net)\n",
    "optimizer = torch.optim.Adam(net.parameters(), lr=learning_rate)"
   ]
  },
  {
   "cell_type": "markdown",
   "id": "63b6c400-6293-4254-aedf-e238b9cb3983",
   "metadata": {},
   "source": [
    "# Training and Testing"
   ]
  },
  {
   "cell_type": "code",
   "execution_count": 11,
   "id": "f6b2ad24",
   "metadata": {},
   "outputs": [
    {
     "name": "stdout",
     "output_type": "stream",
     "text": [
      "Start training VAE...\n",
      "Epoch 0: Loss 2.0978972911834717\n",
      "Epoch 0: Loss 0.35927794873714447\n",
      "Epoch 1: Loss 0.4926917068660259\n",
      "Epoch 1: Loss 0.2678610309958458\n",
      "Epoch 2: Loss 0.2995666153728962\n",
      "Epoch 2: Loss 0.20348935946822166\n",
      "Epoch 3: Loss 0.21911178156733513\n",
      "Epoch 3: Loss 0.1557480599731207\n",
      "Epoch 4: Loss 0.17445013113319874\n",
      "Epoch 4: Loss 0.12889033555984497\n"
     ]
    }
   ],
   "source": [
    "print(\"Start training VAE...\")\n",
    "\n",
    "all_loss = []\n",
    "all_loss_list = []\n",
    "for epoch in range(num_epochs):\n",
    "    net.train()\n",
    "    loss1_all = 0\n",
    "    for batch_idx, (x, y) in enumerate(train_loader):\n",
    "        out, mu, logVar = net(x)\n",
    "        KL_divergence = - 0.5 * torch.sum(1+ logVar - mu.pow(2) - logVar.exp())\n",
    "        loss1 = F.mse_loss(out, y) + KL_divergence\n",
    "        loss1_all += loss1.item()\n",
    "        \n",
    "        optimizer.zero_grad()\n",
    "        loss1.backward()\n",
    "        optimizer.step()\n",
    "        \n",
    "    all_loss.append(loss1_all)\n",
    "    \n",
    "    \n",
    "    loss2_all = 0\n",
    "        \n",
    "   \n",
    "    with torch.no_grad():\n",
    "        net.eval()\n",
    "        for batch_idx, (x, y) in enumerate(test_loader):\n",
    "            pred, mu, logVar = net(x)\n",
    "            KL_divergence = - 0.5 * torch.sum(1+ logVar - mu.pow(2) - logVar.exp())\n",
    "            loss2 = F.mse_loss(pred, y) + KL_divergence\n",
    "            loss2_all += loss2.item()\n",
    "    \n",
    "    all_loss_list.append(loss2_all)\n",
    "        \n",
    "        \n",
    "    print('Epoch {}: Loss {}'.format(epoch, loss1_all))\n",
    "    print('Epoch {}: Loss {}'.format(epoch, loss2_all))"
   ]
  },
  {
   "cell_type": "code",
   "execution_count": null,
   "id": "4551e9d8-afb6-4a75-86d4-db478fafc14b",
   "metadata": {},
   "outputs": [],
   "source": []
  },
  {
   "cell_type": "code",
   "execution_count": 13,
   "id": "460d51a6-aff1-4d4e-9af7-e24d1dd3d2d4",
   "metadata": {},
   "outputs": [
    {
     "data": {
      "text/plain": [
       "<matplotlib.legend.Legend at 0x7fd94c141710>"
      ]
     },
     "execution_count": 13,
     "metadata": {},
     "output_type": "execute_result"
    },
    {
     "data": {
      "image/png": "[encoded data removed]",
      "text/plain": [
       "<Figure size 432x288 with 1 Axes>"
      ]
     },
     "metadata": {
      "needs_background": "light"
     },
     "output_type": "display_data"
    }
   ],
   "source": [
    "plt.plot(all_loss, label='train')\n",
    "plt.plot(all_loss_list, label = 'test')\n",
    "plt.xlabel('epoch')\n",
    "plt.ylabel('Loss')\n",
    "plt.title('Loss Function for VAE')\n",
    "plt.legend()"
   ]
  },
  {
   "cell_type": "code",
   "execution_count": 48,
   "id": "bd9de647-4680-4c93-8f08-4e5b73819ef3",
   "metadata": {},
   "outputs": [],
   "source": [
    "test_loader = DataLoader(dataset = test_dataset, batch_size=1, shuffle=True)\n",
    "\n",
    "MSE_loss = []\n",
    "for batch_idx, (x, y) in enumerate(test_loader):\n",
    "    pred, mu, logVar = net(x)\n",
    "    loss = F.mse_loss(pred, y)\n",
    "    MSE_loss.append(loss.item())"
   ]
  },
  {
   "cell_type": "code",
   "execution_count": 28,
   "id": "d9cf4bfe-852c-4697-960c-ebe8a73c857a",
   "metadata": {},
   "outputs": [
    {
     "data": {
      "text/plain": [
       "Text(0.5, 1.0, 'MSE of all 16 trajectories')"
      ]
     },
     "execution_count": 28,
     "metadata": {},
     "output_type": "execute_result"
    },
    {
     "data": {
      "image/png": "[encoded data removed]",
      "text/plain": [
       "<Figure size 432x288 with 1 Axes>"
      ]
     },
     "metadata": {
      "needs_background": "light"
     },
     "output_type": "display_data"
    }
   ],
   "source": [
    "plt.plot(MSE_loss)\n",
    "plt.xlabel('trajectories')\n",
    "plt.ylabel('MSE loss')\n",
    "plt.title('MSE of all 16 trajectories')"
   ]
  },
  {
   "cell_type": "code",
   "execution_count": null,
   "id": "af5cfc5b-b844-4899-a302-13696b82c475",
   "metadata": {},
   "outputs": [],
   "source": []
  }
 ],
 "metadata": {
  "kernelspec": {
   "display_name": "myconda",
   "language": "python",
   "name": "myconda"
  },
  "language_info": {
   "codemirror_mode": {
    "name": "ipython",
    "version": 3
   },
   "file_extension": ".py",
   "mimetype": "text/x-python",
   "name": "python",
   "nbconvert_exporter": "python",
   "pygments_lexer": "ipython3",
   "version": "3.7.10"
  }
 },
 "nbformat": 4,
 "nbformat_minor": 5
}